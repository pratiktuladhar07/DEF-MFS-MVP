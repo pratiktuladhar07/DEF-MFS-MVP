{
 "cells": [
  {
   "cell_type": "markdown",
   "metadata": {},
   "source": [
    "#### This module will visualize the data as time series and plot them with the x-axes as time and the y-axis as the target feature.  "
   ]
  },
  {
   "cell_type": "markdown",
   "metadata": {},
   "source": [
    "## Libraries"
   ]
  },
  {
   "cell_type": "code",
   "execution_count": 229,
   "metadata": {},
   "outputs": [],
   "source": [
    "#to work with dataframe\n",
    "import pandas as pd\n",
    "#to perform mathematical and statistical calculations\n",
    "import numpy as np\n",
    "#for visualization to create plots and graphs\n",
    "import matplotlib.pyplot as plt\n",
    "#for  high-level interface for drawing attractive and informative statistical graphics.\n",
    "import seaborn as sns\n",
    "#for interactive graphs\n",
    "import plotly.express as px"
   ]
  },
  {
   "cell_type": "markdown",
   "metadata": {},
   "source": [
    "## Define class to plot boxplots to show outliers graphically"
   ]
  },
  {
   "cell_type": "code",
   "execution_count": 230,
   "metadata": {},
   "outputs": [],
   "source": [
    "class Boxplot_Outliers:\n",
    "    #class constructor\n",
    "    def __init__(self,dataframe):\n",
    "        self.df=dataframe\n",
    "        \n",
    "    def plot_boxplots(self):\n",
    "        #to control the general style of the plots.\n",
    "        sns.set(style='whitegrid')\n",
    "        #set figure size\n",
    "        sns.set(rc={'figure.figsize':(20,15)})\n",
    "        \n",
    "        outliers_plot=sns.boxplot(data=self.df[[\"Open\",\"Close\",\"High\",\"Low\"]])\n",
    "        #set_title('Boxplots to display outliers', fontdict = { 'fontsize': 30})\n",
    "        #This will add title to plot\n",
    "        outliers_plot.set_title( \"Boxplots to Display Outliers\",fontdict = { 'fontsize': 30})\n",
    "        #set x labels with font size 20\n",
    "        outliers_plot.set_xlabel( \"Stock Market Feature\",fontdict = { 'fontsize': 20})\n",
    "        #set y labels with font size 20\n",
    "        outliers_plot.set_ylabel( \"Feature Target Values \",fontdict = { 'fontsize': 20})\n",
    "        #set ticker size \n",
    "        outliers_plot.tick_params(axis='both', which='major', labelsize=14)"
   ]
  },
  {
   "cell_type": "markdown",
   "metadata": {},
   "source": [
    "## Define class to display line plots of out stock market data"
   ]
  },
  {
   "cell_type": "code",
   "execution_count": 231,
   "metadata": {},
   "outputs": [],
   "source": [
    "class timeseries_plot:\n",
    "    def __init__(self,dataframe):\n",
    "        self.df=dataframe\n",
    "        \n",
    "    #instance class method to plot time series graph for all  target features \n",
    "    def static_lineplots_all(self):\n",
    "        #we first set the style\n",
    "        sns.set(style='whitegrid')\n",
    "        #set figure size\n",
    "        sns.set(rc={'figure.figsize':(15,10)})\n",
    "        # convert to long (tidy) form using .melt() method\n",
    "        self.dfm = self.df[[\"Date\",\"Open\",\"Close\",\"High\",\"Low\"]].melt('Date', var_name='Feature_Target', value_name='vals')\n",
    "        #use line plot to plot all datapoints as time series plot\n",
    "        all_plots=sns.lineplot(x=\"Date\", y=\"vals\", hue='Feature_Target', data=self.dfm)\n",
    "        #set title of the figure\n",
    "        all_plots.set_title( \"Static Lineplot to Visualize Time Series Data\",fontdict = { 'fontsize': 30})\n",
    "        #set x labels with font size 20\n",
    "        all_plots.set_xlabel( \"Date\",fontdict = { 'fontsize': 20})\n",
    "        #set y labels with font size 20\n",
    "        all_plots.set_ylabel( \"Feature Target \",fontdict = { 'fontsize': 20})\n",
    "        #set ticker size \n",
    "        all_plots.tick_params(axis='both', which='major', labelsize=14)\n",
    "        \n",
    "    #insstance class method to display time series graph for individual target feature\n",
    "    def static_lineplot_indv(self):\n",
    "        #we use subplotting to plot multiple graph in one figure background\n",
    "        #setup figure and axes\n",
    "        fig, axs = plt.subplots(5,1,figsize=(15,15))\n",
    "        sns.set(style='darkgrid')\n",
    "        #for \"Open\" stock market values\n",
    "        OPEN = sns.lineplot(x=\"Date\", y=\"Open\",data=self.df, ax=axs[0])\n",
    "        OPEN.set_title( \"Static Lineplot to Visualize Open Stock prices Data\",fontdict = { 'fontsize': 20})\n",
    "        #for \"Close\" stock market values\n",
    "        CLOSE = sns.lineplot(x=\"Date\", y=\"Close\", data=self.df, ax=axs[1])\n",
    "        CLOSE.set_title( \"Static Lineplot to Visualize Close Stock prices Data\",fontdict = { 'fontsize': 20})\n",
    "        #for \"High\" stock market values\n",
    "        HIGH = sns.lineplot(x=\"Date\", y=\"High\", data=self.df, ax=axs[2])\n",
    "        HIGH.set_title( \"Static Lineplot to Visualize High Stock prices Data\",fontdict = { 'fontsize': 20})\n",
    "        #for \"Low\" stock market values\n",
    "        LOW = sns.lineplot(x=\"Date\", y=\"Low\",data=self.df, ax=axs[3])\n",
    "        LOW.set_title( \"Static Lineplot to Visualize Low Stock prices Data\",fontdict = { 'fontsize': 20})\n",
    "        #for \"Volume\" of stocks\n",
    "        VOLUME = sns.lineplot(x=\"Date\", y=\"Volume\",data=self.df, ax=axs[4])\n",
    "        VOLUME.set_title( \"Static Lineplot to Visualize Volume of our Stocks\",fontdict = { 'fontsize': 20})\n",
    "        plt.tight_layout()\n",
    "        \n",
    "    #instance method to create interactive plots for all target features\n",
    "    def interactive_lineplots_all(self):\n",
    "        #we use plotly's line function to create interactive plots\n",
    "        fig = px.line(self.dfm,x = \"Date\", y = \"vals\",\n",
    "                      color = \"Feature_Target\",title='A Plotly Express for Time Series Plot of Different Stock Market Prices')\n",
    "        fig.show()\n",
    "        \n",
    "    #instance method to create interactive plot for \"Close\" stock market prices\n",
    "    def interactive_lineplots_close(self):\n",
    "        #we use plotly's line function to create interactive plots\n",
    "        fig = px.line(self.df,x = \"Date\", y = \"Close\",title='A Plotly Express for Time Series Plot of \"Close\" Stock Market Prices')\n",
    "        fig.show()\n",
    "        \n",
    "            "
   ]
  },
  {
   "cell_type": "code",
   "execution_count": null,
   "metadata": {},
   "outputs": [],
   "source": []
  },
  {
   "cell_type": "code",
   "execution_count": null,
   "metadata": {},
   "outputs": [],
   "source": []
  }
 ],
 "metadata": {
  "kernelspec": {
   "display_name": "Python 3",
   "language": "python",
   "name": "python3"
  },
  "language_info": {
   "codemirror_mode": {
    "name": "ipython",
    "version": 3
   },
   "file_extension": ".py",
   "mimetype": "text/x-python",
   "name": "python",
   "nbconvert_exporter": "python",
   "pygments_lexer": "ipython3",
   "version": "3.8.3"
  }
 },
 "nbformat": 4,
 "nbformat_minor": 4
}
