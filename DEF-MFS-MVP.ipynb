{
 "cells": [
  {
   "cell_type": "markdown",
   "metadata": {},
   "source": [
    "# CPL 5559 -B220 - CPL -Applied Project"
   ]
  },
  {
   "cell_type": "markdown",
   "metadata": {},
   "source": [
    "## Import libraries"
   ]
  },
  {
   "cell_type": "code",
   "execution_count": 1,
   "metadata": {
    "id": "GSyaffR1Ri_K"
   },
   "outputs": [],
   "source": [
    "#!pip install yfinance\n",
    "import yfinance as yf\n",
    "import pandas as pd"
   ]
  },
  {
   "cell_type": "markdown",
   "metadata": {},
   "source": [
    "## Define class for yahoo finance"
   ]
  },
  {
   "cell_type": "code",
   "execution_count": 125,
   "metadata": {},
   "outputs": [],
   "source": [
    "class yfinance:\n",
    "    #constructor to initialize instance variables\n",
    "    def __init__(self,ticker, start_date,end_date):\n",
    "        #ticker: stock ticker symbol\n",
    "        #star_date : start date from when the stock prices is to be extracted\n",
    "        #end_date : final date upto which the stock prices is to be extracted\n",
    "        self.ticker=ticker\n",
    "        self.start=start_date\n",
    "        self.end=end_date\n",
    "        \n",
    "    #instance method to extract stock prices of a any ticker\n",
    "    def get_stockmarketdata(self):\n",
    "        #yf.Ticker to access ticker data( report of stock prices)\n",
    "        stock = yf.Ticker(self.ticker)\n",
    "        #print(stock.info)\n",
    "        #.history to get historical market data\n",
    "        self.stock_df = stock.history(period='1d',start=self.start, end=self.end)\n",
    "        #period ='1d' means we want to extract stock market data once every day between the specified dates\n",
    "    \n",
    "    #instance method to display stock data in a tabular format\n",
    "    def show_stockmarketdata(self):\n",
    "        #dispaly() method to showcase pandas table in tabular format\n",
    "        display(self.stock_df)"
   ]
  },
  {
   "cell_type": "markdown",
   "metadata": {},
   "source": [
    "## Extract stock data for Tesla, display them and save them to local drive"
   ]
  },
  {
   "cell_type": "markdown",
   "metadata": {},
   "source": [
    "### Extract"
   ]
  },
  {
   "cell_type": "code",
   "execution_count": 126,
   "metadata": {},
   "outputs": [],
   "source": [
    "#initialize start and end date\n",
    "start_date = \"2021-01-01\"\n",
    "end_date = \"2022-12-31\"\n"
   ]
  },
  {
   "cell_type": "code",
   "execution_count": 127,
   "metadata": {},
   "outputs": [],
   "source": [
    "#define a class object\n",
    "tesla_Data = yfinance(\"TSLA\", start_date, end_date)"
   ]
  },
  {
   "cell_type": "code",
   "execution_count": 128,
   "metadata": {},
   "outputs": [],
   "source": [
    "#extract stock data by calling the class's instance method\n",
    "tesla_Data.get_stockmarketdata()"
   ]
  },
  {
   "cell_type": "markdown",
   "metadata": {},
   "source": [
    "### Display"
   ]
  },
  {
   "cell_type": "code",
   "execution_count": 129,
   "metadata": {},
   "outputs": [
    {
     "data": {
      "text/html": [
       "<div>\n",
       "<style scoped>\n",
       "    .dataframe tbody tr th:only-of-type {\n",
       "        vertical-align: middle;\n",
       "    }\n",
       "\n",
       "    .dataframe tbody tr th {\n",
       "        vertical-align: top;\n",
       "    }\n",
       "\n",
       "    .dataframe thead th {\n",
       "        text-align: right;\n",
       "    }\n",
       "</style>\n",
       "<table border=\"1\" class=\"dataframe\">\n",
       "  <thead>\n",
       "    <tr style=\"text-align: right;\">\n",
       "      <th></th>\n",
       "      <th>Open</th>\n",
       "      <th>High</th>\n",
       "      <th>Low</th>\n",
       "      <th>Close</th>\n",
       "      <th>Volume</th>\n",
       "      <th>Dividends</th>\n",
       "      <th>Stock Splits</th>\n",
       "    </tr>\n",
       "    <tr>\n",
       "      <th>Date</th>\n",
       "      <th></th>\n",
       "      <th></th>\n",
       "      <th></th>\n",
       "      <th></th>\n",
       "      <th></th>\n",
       "      <th></th>\n",
       "      <th></th>\n",
       "    </tr>\n",
       "  </thead>\n",
       "  <tbody>\n",
       "    <tr>\n",
       "      <th>2021-01-04</th>\n",
       "      <td>239.820007</td>\n",
       "      <td>248.163330</td>\n",
       "      <td>239.063339</td>\n",
       "      <td>243.256668</td>\n",
       "      <td>145914600</td>\n",
       "      <td>0</td>\n",
       "      <td>0.0</td>\n",
       "    </tr>\n",
       "    <tr>\n",
       "      <th>2021-01-05</th>\n",
       "      <td>241.220001</td>\n",
       "      <td>246.946671</td>\n",
       "      <td>239.733337</td>\n",
       "      <td>245.036667</td>\n",
       "      <td>96735600</td>\n",
       "      <td>0</td>\n",
       "      <td>0.0</td>\n",
       "    </tr>\n",
       "    <tr>\n",
       "      <th>2021-01-06</th>\n",
       "      <td>252.830002</td>\n",
       "      <td>258.000000</td>\n",
       "      <td>249.699997</td>\n",
       "      <td>251.993332</td>\n",
       "      <td>134100000</td>\n",
       "      <td>0</td>\n",
       "      <td>0.0</td>\n",
       "    </tr>\n",
       "    <tr>\n",
       "      <th>2021-01-07</th>\n",
       "      <td>259.209991</td>\n",
       "      <td>272.329987</td>\n",
       "      <td>258.399994</td>\n",
       "      <td>272.013336</td>\n",
       "      <td>154496700</td>\n",
       "      <td>0</td>\n",
       "      <td>0.0</td>\n",
       "    </tr>\n",
       "    <tr>\n",
       "      <th>2021-01-08</th>\n",
       "      <td>285.333344</td>\n",
       "      <td>294.829987</td>\n",
       "      <td>279.463318</td>\n",
       "      <td>293.339996</td>\n",
       "      <td>225166500</td>\n",
       "      <td>0</td>\n",
       "      <td>0.0</td>\n",
       "    </tr>\n",
       "    <tr>\n",
       "      <th>...</th>\n",
       "      <td>...</td>\n",
       "      <td>...</td>\n",
       "      <td>...</td>\n",
       "      <td>...</td>\n",
       "      <td>...</td>\n",
       "      <td>...</td>\n",
       "      <td>...</td>\n",
       "    </tr>\n",
       "    <tr>\n",
       "      <th>2022-12-23</th>\n",
       "      <td>126.370003</td>\n",
       "      <td>128.619995</td>\n",
       "      <td>121.019997</td>\n",
       "      <td>123.150002</td>\n",
       "      <td>166989700</td>\n",
       "      <td>0</td>\n",
       "      <td>0.0</td>\n",
       "    </tr>\n",
       "    <tr>\n",
       "      <th>2022-12-27</th>\n",
       "      <td>117.500000</td>\n",
       "      <td>119.669998</td>\n",
       "      <td>108.760002</td>\n",
       "      <td>109.099998</td>\n",
       "      <td>208643400</td>\n",
       "      <td>0</td>\n",
       "      <td>0.0</td>\n",
       "    </tr>\n",
       "    <tr>\n",
       "      <th>2022-12-28</th>\n",
       "      <td>110.349998</td>\n",
       "      <td>116.269997</td>\n",
       "      <td>108.239998</td>\n",
       "      <td>112.709999</td>\n",
       "      <td>221070500</td>\n",
       "      <td>0</td>\n",
       "      <td>0.0</td>\n",
       "    </tr>\n",
       "    <tr>\n",
       "      <th>2022-12-29</th>\n",
       "      <td>120.389999</td>\n",
       "      <td>123.570000</td>\n",
       "      <td>117.500000</td>\n",
       "      <td>121.820000</td>\n",
       "      <td>221923300</td>\n",
       "      <td>0</td>\n",
       "      <td>0.0</td>\n",
       "    </tr>\n",
       "    <tr>\n",
       "      <th>2022-12-30</th>\n",
       "      <td>119.949997</td>\n",
       "      <td>124.480003</td>\n",
       "      <td>119.750000</td>\n",
       "      <td>123.180000</td>\n",
       "      <td>157304500</td>\n",
       "      <td>0</td>\n",
       "      <td>0.0</td>\n",
       "    </tr>\n",
       "  </tbody>\n",
       "</table>\n",
       "<p>503 rows × 7 columns</p>\n",
       "</div>"
      ],
      "text/plain": [
       "                  Open        High         Low       Close     Volume  \\\n",
       "Date                                                                    \n",
       "2021-01-04  239.820007  248.163330  239.063339  243.256668  145914600   \n",
       "2021-01-05  241.220001  246.946671  239.733337  245.036667   96735600   \n",
       "2021-01-06  252.830002  258.000000  249.699997  251.993332  134100000   \n",
       "2021-01-07  259.209991  272.329987  258.399994  272.013336  154496700   \n",
       "2021-01-08  285.333344  294.829987  279.463318  293.339996  225166500   \n",
       "...                ...         ...         ...         ...        ...   \n",
       "2022-12-23  126.370003  128.619995  121.019997  123.150002  166989700   \n",
       "2022-12-27  117.500000  119.669998  108.760002  109.099998  208643400   \n",
       "2022-12-28  110.349998  116.269997  108.239998  112.709999  221070500   \n",
       "2022-12-29  120.389999  123.570000  117.500000  121.820000  221923300   \n",
       "2022-12-30  119.949997  124.480003  119.750000  123.180000  157304500   \n",
       "\n",
       "            Dividends  Stock Splits  \n",
       "Date                                 \n",
       "2021-01-04          0           0.0  \n",
       "2021-01-05          0           0.0  \n",
       "2021-01-06          0           0.0  \n",
       "2021-01-07          0           0.0  \n",
       "2021-01-08          0           0.0  \n",
       "...               ...           ...  \n",
       "2022-12-23          0           0.0  \n",
       "2022-12-27          0           0.0  \n",
       "2022-12-28          0           0.0  \n",
       "2022-12-29          0           0.0  \n",
       "2022-12-30          0           0.0  \n",
       "\n",
       "[503 rows x 7 columns]"
      ]
     },
     "metadata": {},
     "output_type": "display_data"
    }
   ],
   "source": [
    "#show stock data in tabular form by calling class's instance method\n",
    "tesla_Data.show_stockmarketdata()"
   ]
  },
  {
   "cell_type": "code",
   "execution_count": 145,
   "metadata": {},
   "outputs": [],
   "source": [
    "#extracting classes instance variable\n",
    "Tesla=tesla_Data.stock_df"
   ]
  },
  {
   "cell_type": "code",
   "execution_count": 146,
   "metadata": {},
   "outputs": [
    {
     "data": {
      "text/plain": [
       "pandas.core.frame.DataFrame"
      ]
     },
     "execution_count": 146,
     "metadata": {},
     "output_type": "execute_result"
    }
   ],
   "source": [
    "type(tesla_Data.stock_df)"
   ]
  },
  {
   "cell_type": "markdown",
   "metadata": {},
   "source": [
    "### Save"
   ]
  },
  {
   "cell_type": "code",
   "execution_count": 156,
   "metadata": {},
   "outputs": [],
   "source": [
    "Tesla.to_csv(\"Tesla.csv\")"
   ]
  },
  {
   "cell_type": "markdown",
   "metadata": {},
   "source": [
    "## Extract stock data for Ford, Display them and Save them in the local drive"
   ]
  },
  {
   "cell_type": "markdown",
   "metadata": {},
   "source": [
    "### Extract"
   ]
  },
  {
   "cell_type": "code",
   "execution_count": 130,
   "metadata": {},
   "outputs": [],
   "source": [
    "ford_Data = yfinance(\"F\", start_date, end_date)"
   ]
  },
  {
   "cell_type": "code",
   "execution_count": 131,
   "metadata": {},
   "outputs": [],
   "source": [
    "#extract stock data\n",
    "ford_Data.get_stockmarketdata()"
   ]
  },
  {
   "cell_type": "markdown",
   "metadata": {},
   "source": [
    "### Display"
   ]
  },
  {
   "cell_type": "code",
   "execution_count": 132,
   "metadata": {},
   "outputs": [
    {
     "data": {
      "text/html": [
       "<div>\n",
       "<style scoped>\n",
       "    .dataframe tbody tr th:only-of-type {\n",
       "        vertical-align: middle;\n",
       "    }\n",
       "\n",
       "    .dataframe tbody tr th {\n",
       "        vertical-align: top;\n",
       "    }\n",
       "\n",
       "    .dataframe thead th {\n",
       "        text-align: right;\n",
       "    }\n",
       "</style>\n",
       "<table border=\"1\" class=\"dataframe\">\n",
       "  <thead>\n",
       "    <tr style=\"text-align: right;\">\n",
       "      <th></th>\n",
       "      <th>Open</th>\n",
       "      <th>High</th>\n",
       "      <th>Low</th>\n",
       "      <th>Close</th>\n",
       "      <th>Volume</th>\n",
       "      <th>Dividends</th>\n",
       "      <th>Stock Splits</th>\n",
       "    </tr>\n",
       "    <tr>\n",
       "      <th>Date</th>\n",
       "      <th></th>\n",
       "      <th></th>\n",
       "      <th></th>\n",
       "      <th></th>\n",
       "      <th></th>\n",
       "      <th></th>\n",
       "      <th></th>\n",
       "    </tr>\n",
       "  </thead>\n",
       "  <tbody>\n",
       "    <tr>\n",
       "      <th>2021-01-04</th>\n",
       "      <td>8.489096</td>\n",
       "      <td>8.518003</td>\n",
       "      <td>8.122938</td>\n",
       "      <td>8.209660</td>\n",
       "      <td>85043100</td>\n",
       "      <td>0.0</td>\n",
       "      <td>0</td>\n",
       "    </tr>\n",
       "    <tr>\n",
       "      <th>2021-01-05</th>\n",
       "      <td>8.161481</td>\n",
       "      <td>8.402375</td>\n",
       "      <td>8.151845</td>\n",
       "      <td>8.334924</td>\n",
       "      <td>70127800</td>\n",
       "      <td>0.0</td>\n",
       "      <td>0</td>\n",
       "    </tr>\n",
       "    <tr>\n",
       "      <th>2021-01-06</th>\n",
       "      <td>8.469825</td>\n",
       "      <td>8.614361</td>\n",
       "      <td>8.363833</td>\n",
       "      <td>8.518004</td>\n",
       "      <td>72590200</td>\n",
       "      <td>0.0</td>\n",
       "      <td>0</td>\n",
       "    </tr>\n",
       "    <tr>\n",
       "      <th>2021-01-07</th>\n",
       "      <td>8.614361</td>\n",
       "      <td>8.749262</td>\n",
       "      <td>8.556547</td>\n",
       "      <td>8.729991</td>\n",
       "      <td>77117100</td>\n",
       "      <td>0.0</td>\n",
       "      <td>0</td>\n",
       "    </tr>\n",
       "    <tr>\n",
       "      <th>2021-01-08</th>\n",
       "      <td>8.768534</td>\n",
       "      <td>8.807077</td>\n",
       "      <td>8.566183</td>\n",
       "      <td>8.672176</td>\n",
       "      <td>59162200</td>\n",
       "      <td>0.0</td>\n",
       "      <td>0</td>\n",
       "    </tr>\n",
       "    <tr>\n",
       "      <th>...</th>\n",
       "      <td>...</td>\n",
       "      <td>...</td>\n",
       "      <td>...</td>\n",
       "      <td>...</td>\n",
       "      <td>...</td>\n",
       "      <td>...</td>\n",
       "      <td>...</td>\n",
       "    </tr>\n",
       "    <tr>\n",
       "      <th>2022-12-23</th>\n",
       "      <td>11.270000</td>\n",
       "      <td>11.400000</td>\n",
       "      <td>11.220000</td>\n",
       "      <td>11.360000</td>\n",
       "      <td>38200700</td>\n",
       "      <td>0.0</td>\n",
       "      <td>0</td>\n",
       "    </tr>\n",
       "    <tr>\n",
       "      <th>2022-12-27</th>\n",
       "      <td>11.280000</td>\n",
       "      <td>11.390000</td>\n",
       "      <td>11.130000</td>\n",
       "      <td>11.200000</td>\n",
       "      <td>44837400</td>\n",
       "      <td>0.0</td>\n",
       "      <td>0</td>\n",
       "    </tr>\n",
       "    <tr>\n",
       "      <th>2022-12-28</th>\n",
       "      <td>11.180000</td>\n",
       "      <td>11.250000</td>\n",
       "      <td>10.900000</td>\n",
       "      <td>10.950000</td>\n",
       "      <td>49375400</td>\n",
       "      <td>0.0</td>\n",
       "      <td>0</td>\n",
       "    </tr>\n",
       "    <tr>\n",
       "      <th>2022-12-29</th>\n",
       "      <td>11.080000</td>\n",
       "      <td>11.550000</td>\n",
       "      <td>11.050000</td>\n",
       "      <td>11.540000</td>\n",
       "      <td>53550300</td>\n",
       "      <td>0.0</td>\n",
       "      <td>0</td>\n",
       "    </tr>\n",
       "    <tr>\n",
       "      <th>2022-12-30</th>\n",
       "      <td>11.400000</td>\n",
       "      <td>11.640000</td>\n",
       "      <td>11.390000</td>\n",
       "      <td>11.630000</td>\n",
       "      <td>39149700</td>\n",
       "      <td>0.0</td>\n",
       "      <td>0</td>\n",
       "    </tr>\n",
       "  </tbody>\n",
       "</table>\n",
       "<p>503 rows × 7 columns</p>\n",
       "</div>"
      ],
      "text/plain": [
       "                 Open       High        Low      Close    Volume  Dividends  \\\n",
       "Date                                                                          \n",
       "2021-01-04   8.489096   8.518003   8.122938   8.209660  85043100        0.0   \n",
       "2021-01-05   8.161481   8.402375   8.151845   8.334924  70127800        0.0   \n",
       "2021-01-06   8.469825   8.614361   8.363833   8.518004  72590200        0.0   \n",
       "2021-01-07   8.614361   8.749262   8.556547   8.729991  77117100        0.0   \n",
       "2021-01-08   8.768534   8.807077   8.566183   8.672176  59162200        0.0   \n",
       "...               ...        ...        ...        ...       ...        ...   \n",
       "2022-12-23  11.270000  11.400000  11.220000  11.360000  38200700        0.0   \n",
       "2022-12-27  11.280000  11.390000  11.130000  11.200000  44837400        0.0   \n",
       "2022-12-28  11.180000  11.250000  10.900000  10.950000  49375400        0.0   \n",
       "2022-12-29  11.080000  11.550000  11.050000  11.540000  53550300        0.0   \n",
       "2022-12-30  11.400000  11.640000  11.390000  11.630000  39149700        0.0   \n",
       "\n",
       "            Stock Splits  \n",
       "Date                      \n",
       "2021-01-04             0  \n",
       "2021-01-05             0  \n",
       "2021-01-06             0  \n",
       "2021-01-07             0  \n",
       "2021-01-08             0  \n",
       "...                  ...  \n",
       "2022-12-23             0  \n",
       "2022-12-27             0  \n",
       "2022-12-28             0  \n",
       "2022-12-29             0  \n",
       "2022-12-30             0  \n",
       "\n",
       "[503 rows x 7 columns]"
      ]
     },
     "metadata": {},
     "output_type": "display_data"
    }
   ],
   "source": [
    "#to show stock data in tabular form\n",
    "ford_Data.show_stockmarketdata()"
   ]
  },
  {
   "cell_type": "code",
   "execution_count": 143,
   "metadata": {},
   "outputs": [],
   "source": [
    "Ford=ford_Data.stock_df"
   ]
  },
  {
   "cell_type": "code",
   "execution_count": 144,
   "metadata": {},
   "outputs": [
    {
     "data": {
      "text/plain": [
       "pandas.core.frame.DataFrame"
      ]
     },
     "execution_count": 144,
     "metadata": {},
     "output_type": "execute_result"
    }
   ],
   "source": [
    "type(ford_Data.stock_df)"
   ]
  },
  {
   "cell_type": "markdown",
   "metadata": {},
   "source": [
    "### Save"
   ]
  },
  {
   "cell_type": "code",
   "execution_count": 157,
   "metadata": {},
   "outputs": [],
   "source": [
    "Ford.to_csv(\"Ford.csv\")"
   ]
  },
  {
   "cell_type": "markdown",
   "metadata": {},
   "source": [
    "## Merge two stock data into one table"
   ]
  },
  {
   "cell_type": "code",
   "execution_count": 147,
   "metadata": {},
   "outputs": [],
   "source": [
    "#initialize the market stock data to each company\n",
    "Tesla[\"Company\"]=\"Tesla\"\n",
    "Ford[\"Company\"]=\"Ford\""
   ]
  },
  {
   "cell_type": "code",
   "execution_count": 151,
   "metadata": {},
   "outputs": [],
   "source": [
    "#use concat to merge the two dataframe\n",
    "merged_Stock_Data= pd.concat ([Tesla, Ford], axis=0)"
   ]
  },
  {
   "cell_type": "code",
   "execution_count": 155,
   "metadata": {
    "id": "fDD9AwrNR6vD"
   },
   "outputs": [
    {
     "data": {
      "text/html": [
       "<div>\n",
       "<style scoped>\n",
       "    .dataframe tbody tr th:only-of-type {\n",
       "        vertical-align: middle;\n",
       "    }\n",
       "\n",
       "    .dataframe tbody tr th {\n",
       "        vertical-align: top;\n",
       "    }\n",
       "\n",
       "    .dataframe thead th {\n",
       "        text-align: right;\n",
       "    }\n",
       "</style>\n",
       "<table border=\"1\" class=\"dataframe\">\n",
       "  <thead>\n",
       "    <tr style=\"text-align: right;\">\n",
       "      <th></th>\n",
       "      <th>Open</th>\n",
       "      <th>High</th>\n",
       "      <th>Low</th>\n",
       "      <th>Close</th>\n",
       "      <th>Volume</th>\n",
       "      <th>Dividends</th>\n",
       "      <th>Stock Splits</th>\n",
       "      <th>Company</th>\n",
       "    </tr>\n",
       "    <tr>\n",
       "      <th>Date</th>\n",
       "      <th></th>\n",
       "      <th></th>\n",
       "      <th></th>\n",
       "      <th></th>\n",
       "      <th></th>\n",
       "      <th></th>\n",
       "      <th></th>\n",
       "      <th></th>\n",
       "    </tr>\n",
       "  </thead>\n",
       "  <tbody>\n",
       "    <tr>\n",
       "      <th>2021-01-04</th>\n",
       "      <td>239.820007</td>\n",
       "      <td>248.163330</td>\n",
       "      <td>239.063339</td>\n",
       "      <td>243.256668</td>\n",
       "      <td>145914600</td>\n",
       "      <td>0.0</td>\n",
       "      <td>0.0</td>\n",
       "      <td>Tesla</td>\n",
       "    </tr>\n",
       "    <tr>\n",
       "      <th>2021-01-04</th>\n",
       "      <td>8.489096</td>\n",
       "      <td>8.518003</td>\n",
       "      <td>8.122938</td>\n",
       "      <td>8.209660</td>\n",
       "      <td>85043100</td>\n",
       "      <td>0.0</td>\n",
       "      <td>0.0</td>\n",
       "      <td>Ford</td>\n",
       "    </tr>\n",
       "    <tr>\n",
       "      <th>2021-01-05</th>\n",
       "      <td>241.220001</td>\n",
       "      <td>246.946671</td>\n",
       "      <td>239.733337</td>\n",
       "      <td>245.036667</td>\n",
       "      <td>96735600</td>\n",
       "      <td>0.0</td>\n",
       "      <td>0.0</td>\n",
       "      <td>Tesla</td>\n",
       "    </tr>\n",
       "    <tr>\n",
       "      <th>2021-01-05</th>\n",
       "      <td>8.161481</td>\n",
       "      <td>8.402375</td>\n",
       "      <td>8.151845</td>\n",
       "      <td>8.334924</td>\n",
       "      <td>70127800</td>\n",
       "      <td>0.0</td>\n",
       "      <td>0.0</td>\n",
       "      <td>Ford</td>\n",
       "    </tr>\n",
       "    <tr>\n",
       "      <th>2021-01-06</th>\n",
       "      <td>252.830002</td>\n",
       "      <td>258.000000</td>\n",
       "      <td>249.699997</td>\n",
       "      <td>251.993332</td>\n",
       "      <td>134100000</td>\n",
       "      <td>0.0</td>\n",
       "      <td>0.0</td>\n",
       "      <td>Tesla</td>\n",
       "    </tr>\n",
       "    <tr>\n",
       "      <th>...</th>\n",
       "      <td>...</td>\n",
       "      <td>...</td>\n",
       "      <td>...</td>\n",
       "      <td>...</td>\n",
       "      <td>...</td>\n",
       "      <td>...</td>\n",
       "      <td>...</td>\n",
       "      <td>...</td>\n",
       "    </tr>\n",
       "    <tr>\n",
       "      <th>2022-12-28</th>\n",
       "      <td>110.349998</td>\n",
       "      <td>116.269997</td>\n",
       "      <td>108.239998</td>\n",
       "      <td>112.709999</td>\n",
       "      <td>221070500</td>\n",
       "      <td>0.0</td>\n",
       "      <td>0.0</td>\n",
       "      <td>Tesla</td>\n",
       "    </tr>\n",
       "    <tr>\n",
       "      <th>2022-12-29</th>\n",
       "      <td>11.080000</td>\n",
       "      <td>11.550000</td>\n",
       "      <td>11.050000</td>\n",
       "      <td>11.540000</td>\n",
       "      <td>53550300</td>\n",
       "      <td>0.0</td>\n",
       "      <td>0.0</td>\n",
       "      <td>Ford</td>\n",
       "    </tr>\n",
       "    <tr>\n",
       "      <th>2022-12-29</th>\n",
       "      <td>120.389999</td>\n",
       "      <td>123.570000</td>\n",
       "      <td>117.500000</td>\n",
       "      <td>121.820000</td>\n",
       "      <td>221923300</td>\n",
       "      <td>0.0</td>\n",
       "      <td>0.0</td>\n",
       "      <td>Tesla</td>\n",
       "    </tr>\n",
       "    <tr>\n",
       "      <th>2022-12-30</th>\n",
       "      <td>119.949997</td>\n",
       "      <td>124.480003</td>\n",
       "      <td>119.750000</td>\n",
       "      <td>123.180000</td>\n",
       "      <td>157304500</td>\n",
       "      <td>0.0</td>\n",
       "      <td>0.0</td>\n",
       "      <td>Tesla</td>\n",
       "    </tr>\n",
       "    <tr>\n",
       "      <th>2022-12-30</th>\n",
       "      <td>11.400000</td>\n",
       "      <td>11.640000</td>\n",
       "      <td>11.390000</td>\n",
       "      <td>11.630000</td>\n",
       "      <td>39149700</td>\n",
       "      <td>0.0</td>\n",
       "      <td>0.0</td>\n",
       "      <td>Ford</td>\n",
       "    </tr>\n",
       "  </tbody>\n",
       "</table>\n",
       "<p>1006 rows × 8 columns</p>\n",
       "</div>"
      ],
      "text/plain": [
       "                  Open        High         Low       Close     Volume  \\\n",
       "Date                                                                    \n",
       "2021-01-04  239.820007  248.163330  239.063339  243.256668  145914600   \n",
       "2021-01-04    8.489096    8.518003    8.122938    8.209660   85043100   \n",
       "2021-01-05  241.220001  246.946671  239.733337  245.036667   96735600   \n",
       "2021-01-05    8.161481    8.402375    8.151845    8.334924   70127800   \n",
       "2021-01-06  252.830002  258.000000  249.699997  251.993332  134100000   \n",
       "...                ...         ...         ...         ...        ...   \n",
       "2022-12-28  110.349998  116.269997  108.239998  112.709999  221070500   \n",
       "2022-12-29   11.080000   11.550000   11.050000   11.540000   53550300   \n",
       "2022-12-29  120.389999  123.570000  117.500000  121.820000  221923300   \n",
       "2022-12-30  119.949997  124.480003  119.750000  123.180000  157304500   \n",
       "2022-12-30   11.400000   11.640000   11.390000   11.630000   39149700   \n",
       "\n",
       "            Dividends  Stock Splits Company  \n",
       "Date                                         \n",
       "2021-01-04        0.0           0.0   Tesla  \n",
       "2021-01-04        0.0           0.0    Ford  \n",
       "2021-01-05        0.0           0.0   Tesla  \n",
       "2021-01-05        0.0           0.0    Ford  \n",
       "2021-01-06        0.0           0.0   Tesla  \n",
       "...               ...           ...     ...  \n",
       "2022-12-28        0.0           0.0   Tesla  \n",
       "2022-12-29        0.0           0.0    Ford  \n",
       "2022-12-29        0.0           0.0   Tesla  \n",
       "2022-12-30        0.0           0.0   Tesla  \n",
       "2022-12-30        0.0           0.0    Ford  \n",
       "\n",
       "[1006 rows x 8 columns]"
      ]
     },
     "execution_count": 155,
     "metadata": {},
     "output_type": "execute_result"
    }
   ],
   "source": [
    "merged_Stock_Data.sort_values(by=\"Date\")"
   ]
  },
  {
   "cell_type": "code",
   "execution_count": 158,
   "metadata": {
    "colab": {
     "base_uri": "https://localhost:8080/",
     "height": 455
    },
    "id": "o_QGac52SLgZ",
    "outputId": "97b79224-7212-4994-c108-740aae83c069"
   },
   "outputs": [],
   "source": [
    "merged_Stock_Data.to_csv(\"merged_data.csv\")"
   ]
  },
  {
   "cell_type": "code",
   "execution_count": null,
   "metadata": {
    "colab": {
     "base_uri": "https://localhost:8080/",
     "height": 455
    },
    "id": "e525YFjOSdQ1",
    "outputId": "73d32e39-5871-4796-cf0c-ddc4b493bba7"
   },
   "outputs": [],
   "source": []
  },
  {
   "cell_type": "code",
   "execution_count": null,
   "metadata": {
    "colab": {
     "base_uri": "https://localhost:8080/",
     "height": 455
    },
    "id": "FltaubJLSxcy",
    "outputId": "51b7cd7d-5add-40e4-adf9-f84c457db959"
   },
   "outputs": [],
   "source": []
  },
  {
   "cell_type": "code",
   "execution_count": null,
   "metadata": {
    "id": "PQnPTo9lS7Uw"
   },
   "outputs": [],
   "source": []
  },
  {
   "cell_type": "code",
   "execution_count": null,
   "metadata": {},
   "outputs": [],
   "source": []
  }
 ],
 "metadata": {
  "colab": {
   "provenance": []
  },
  "kernelspec": {
   "display_name": "Python 3",
   "language": "python",
   "name": "python3"
  },
  "language_info": {
   "codemirror_mode": {
    "name": "ipython",
    "version": 3
   },
   "file_extension": ".py",
   "mimetype": "text/x-python",
   "name": "python",
   "nbconvert_exporter": "python",
   "pygments_lexer": "ipython3",
   "version": "3.8.3"
  }
 },
 "nbformat": 4,
 "nbformat_minor": 1
}
