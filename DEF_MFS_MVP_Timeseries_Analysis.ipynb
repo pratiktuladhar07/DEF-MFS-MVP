{
 "cells": [
  {
   "cell_type": "markdown",
   "metadata": {},
   "source": [
    "#### In this module we load the data from the persistent storage and visualize data in a meaningful way considering that our data is a  timeseries data, hence the x-axis is set as time. Then we apply the selected Timeseries Analysis Method to the data."
   ]
  },
  {
   "cell_type": "markdown",
   "metadata": {},
   "source": [
    "### Import Libraries"
   ]
  },
  {
   "cell_type": "code",
   "execution_count": 7,
   "metadata": {},
   "outputs": [],
   "source": [
    "import pandas as pd\n",
    "import seaborn as sns\n",
    "import matplotlib.pyplot as plt\n",
    "import plotly.express as px\n",
    "#plotly graphical object\n",
    "import plotly.graph_objects as go\n",
    "from matplotlib.pyplot import figure\n",
    "from statsmodels.tsa.seasonal import seasonal_decompose\n",
    "from statsmodels.tsa.stattools import adfuller\n",
    "from statsmodels.graphics.tsaplots import plot_acf\n",
    "from pmdarima.arima.utils import ndiffs\n",
    "from statsmodels.graphics.tsaplots import plot_pacf\n",
    "import warnings\n",
    "warnings.filterwarnings(\"ignore\")\n",
    "from statsmodels.tsa.arima.model import ARIMA\n",
    "from sklearn.model_selection import train_test_split"
   ]
  },
  {
   "cell_type": "markdown",
   "metadata": {},
   "source": [
    "### Visualize Data as Time Series Plot"
   ]
  },
  {
   "cell_type": "markdown",
   "metadata": {},
   "source": [
    "We define a class and use plotly express to plot our stock market data as a time series plot."
   ]
  },
  {
   "cell_type": "code",
   "execution_count": 8,
   "metadata": {},
   "outputs": [],
   "source": [
    "class TimeSeries_Visualization:\n",
    "    \n",
    "    #class constructor\n",
    "    def __init__(self,dataframe):\n",
    "        self.df=dataframe\n",
    "        #self.feat_columns=target_features\n",
    "        \n",
    "    #Line Plot\n",
    "    #our data is a time series data where stock market changes according to time\n",
    "    #line plots are best used to describe a time series data\n",
    "    #this instance method will plot line plots for all target_features selected ie Open, Close, High and Low\n",
    "    def line_plot(self):\n",
    "        fig = px.line(self.df,x = \"Date\", y = [\"Open\",\"High\",\"Low\",\"Close\"],\n",
    "                      title='A Plotly Express for Time Series Plot of Different Stock Market Prices')\n",
    "        fig.update_layout(xaxis_title=\" Date\",yaxis_title=\"Stock Market Prices\")\n",
    "        #A range slider is a small subplot-like area below a plot which allows users to pan and zoom the X-axis \n",
    "        #while maintaining an overview of the chart.\n",
    "        fig.update_xaxes(rangeslider_visible=True)\n",
    "        fig.show()\n",
    "        #save plotly graph as html file\n",
    "        fig.write_html(\"interactive_line_all.html\")\n",
    "        \n",
    "    #Candlestick plot\n",
    "    #we will use candlestick chart to describe open, high, low and close for a given dates. \n",
    "    #The boxes represent the spread between the open and close values and the lines represent the spread between the low and high values. \n",
    "    #Sample points where the close value is higher (lower) then the open value are called increasing (decreasing).\n",
    "    #By default, increasing candles are drawn in green whereas decreasing are drawn in red.\n",
    "    def candlestick_plot(self):\n",
    "        fig = go.Figure(data=[go.Candlestick(x=self.df['Date'],\n",
    "                                             open=self.df['Open'],\n",
    "                                             high=self.df['High'],\n",
    "                                             low=self.df['Low'],\n",
    "                                             close=self.df['Close'])])\n",
    "        fig.update_layout(xaxis_title=\" Date\",yaxis_title=\"Stock Market Prices\",title=\"A Plotly go Candlestick Plot to describe Open, Close, High and Low Stock Market Values for Different Dates\")\n",
    "\n",
    "        fig.show()\n",
    "        #save plotly graph as html file\n",
    "        fig.write_html(\"interactive_candlestick.html\")\n",
    "        \n",
    "    \n",
    "    #OHLC plot\n",
    "    #The OHLC chart (for open, high, low and close) describes open, high, low and close values for a given x coordinate-Date.\n",
    "    #The tip of the lines represent the low and high values and the horizontal segments represent the open and close values. \n",
    "    #Sample points where the close value is higher (lower) then the open value are called increasing (decreasing). \n",
    "    #By default, increasing items are drawn in green whereas decreasing are drawn in red.\n",
    "    \n",
    "    def OHLC_plot(self):\n",
    "        fig = go.Figure(data=[go.Ohlc(x=self.df['Date'],\n",
    "                                             open=self.df['Open'],\n",
    "                                             high=self.df['High'],\n",
    "                                             low=self.df['Low'],\n",
    "                                             close=self.df['Close'])])\n",
    "        fig.update_layout(xaxis_title=\" Date\",yaxis_title=\"Stock Market Prices\",title=\"A Plotly go OHLC Plot to describe Open, Close, High and Low Stock Market Values for Different Dates\")\n",
    "\n",
    "        fig.show()\n",
    "        #save plotly graph as html file\n",
    "        fig.write_html(\"interactive_OHLC.html\")\n",
    "        \n",
    "    "
   ]
  },
  {
   "cell_type": "markdown",
   "metadata": {},
   "source": [
    "Our Target feature in Close Value, so we will be working on this"
   ]
  },
  {
   "cell_type": "code",
   "execution_count": 9,
   "metadata": {},
   "outputs": [],
   "source": [
    "#df_tesla=df_tesla=df_from_db_tesla[[\"Date\",\"Close\"]]\n",
    "#then we set date as our indext\n",
    "#df_tesla.set_index(\"Date\",inplace=True)"
   ]
  },
  {
   "cell_type": "markdown",
   "metadata": {},
   "source": [
    "### Analyse Time Series Data"
   ]
  },
  {
   "cell_type": "markdown",
   "metadata": {},
   "source": [
    "We define a class to perform different types of analysis on our time series data"
   ]
  },
  {
   "cell_type": "code",
   "execution_count": 10,
   "metadata": {},
   "outputs": [],
   "source": [
    "class TimeSeries_Analysis:\n",
    "    #class constructor\n",
    "    def __init__(self,dataframe):\n",
    "        self.df=dataframe\n",
    "        \n",
    "    def additive_decomposition(self):\n",
    "        #this class method is use to model/decompose our time series data as an additive of base level(residue),trend and seaonality\n",
    "        #value=base level+trend+seasonality\n",
    "        #we perform seasonal decomposition by using the statasmodel library's seasonal decomposition module\n",
    "        #Time series decomposition helps us disentangle the time series into components that may be easier to understand and  to forecas\n",
    "        #used in understanding the data, forecasting, outlier detection\n",
    "        \n",
    "        seasonal_decomp = seasonal_decompose(self.df, model=\"additive\",period=50)\n",
    "        #save it to a dataframe\n",
    "        additive_df = pd.concat([seasonal_decomp.seasonal, seasonal_decomp.trend, seasonal_decomp.resid, seasonal_decomp.observed], axis=1)\n",
    "        additive_df.columns = ['Seasonal', 'Trend', 'Residual', 'Actual_values']\n",
    "        #display(additive_df.head())\n",
    "        #plot these data into one figure to illustrate seasonality, trend and residue individually\n",
    "        plt.figure(figsize=(15, 10))\n",
    "        seasonal_decomp.seasonal.plot(label = 'Seasonal')\n",
    "        seasonal_decomp.trend.plot(label = 'Trend')\n",
    "        seasonal_decomp.resid.plot(label = 'Residual')\n",
    "        seasonal_decomp.observed.plot(label = 'Actual Data')\n",
    "        plt.legend()\n",
    "        plt.title(\"Decomposition of Time Series Data in Seasonal, Trend and Residue\",fontsize = 20)\n",
    "        plt.xlabel(\"Date\",fontsize = 15)\n",
    "        plt.ylabel(\"CLOSE Stock Market Data\",fontsize = 15)\n",
    "        \n",
    "        \n",
    "    def autocorellationship(self):\n",
    "        #this class method is used to show the cross coreelation in our data\n",
    "        #autocorrelation is the similarity between observations as a function of the time lag between them.\n",
    "        plt.figure(figsize=(15, 10))\n",
    "        pd.plotting.lag_plot(self.df[\"Close\"],lag=3)\n",
    "        plt.title(\"Auto correlation plot for Close Stock prices with lag=3\")\n",
    "        plt.show()\n",
    "        \n"
   ]
  },
  {
   "cell_type": "markdown",
   "metadata": {},
   "source": [
    "### Arima Model to Analyse our Time Series Data"
   ]
  },
  {
   "cell_type": "markdown",
   "metadata": {},
   "source": [
    "We define a class to perform analysis on our tock market data using arima model"
   ]
  },
  {
   "cell_type": "code",
   "execution_count": 11,
   "metadata": {},
   "outputs": [],
   "source": [
    "class ARIMA_Analysis:\n",
    "    #Auto-Regressive Integrated Moving Averag Model\n",
    "    #based on the assumption that previous values carry inherent information and can be used to predict future values.\n",
    "    #3 parameters\n",
    "    #p: the autoregressive order\n",
    "    #d: the order of differencing to make the time series stationary\n",
    "    #q: the moving average order\n",
    "    \n",
    "    #class constructor\n",
    "    def __init__(self,dataframe):\n",
    "        self.df=dataframe    \n",
    "    \n",
    "    #Time series forecasting works only for a stationary time series since only the behavior of a stationary time series is predictable.\n",
    "    #so we define a class function to check stationary characteristic\n",
    "    def stationary_test(self):\n",
    "        #stationary- time series data whose mean and variance doesnt change when time changes\n",
    "        #covariance is independent of time\n",
    "        #Time series forecasting works only for a stationary since only the behavior of a stationary time series is predictable.\n",
    "        #to check if our time series data is stationary we use Augmentd Dicky-fuller(ADF) test\n",
    "        #The default null hypothesis of the ADF test is that the time series is non-stationary. \n",
    "        #p>0.05\n",
    "        #if p-value of the ADF testis less than the significance level of 0.05,\n",
    "        #we reject the null hypothesis and conclude that the time series is stationary\n",
    "        result = adfuller(self.df[\"Close\"])\n",
    "        print('ADF Statistic: %f' % result[0])\n",
    "        print('p-value: %f' % result[1])\n",
    "        if result[1]>0.05:\n",
    "            print(\"The Time Series Data is Non-Stationary and We will Need to Find Order of Differencing\")\n",
    "        else:\n",
    "            print(\"The Time Series Data is Stationary\")\n",
    "            \n",
    "    def Differencing_d(self):\n",
    "        #because our time series data is non stationary we need to maker it stationary by diffrencing them\n",
    "        #we will need to substract previous value by present value(differencing)\n",
    "        #might need to do diffrencing multiple time ie multiple order of differencing\n",
    "        #to find order of diffrencing we use acf plot\n",
    "        #acf plot shows serial correlation in time series data\n",
    "        #tells how many turn are need to remove any auto correlation in the series\n",
    "        #to find \"d\"\n",
    "        \n",
    "        def AutoCorrelationFunction(data,diff):\n",
    "            fig,(ax1,ax2)= plt.subplots(1,2,figsize=(16,5))\n",
    "            ax1.plot(data)\n",
    "            ax1.set_title(f\"Order of Differencing = {diff}\")\n",
    "            plot_acf(data,ax=ax2)\n",
    "            \n",
    "        #print(\"Original Time Series Plot\")    \n",
    "        AutoCorrelationFunction(self.df[\"Close\"],0)\n",
    "        #1st differencing\n",
    "        diff1=self.df[\"Close\"].diff().dropna()\n",
    "        #print(\"First Differencing\")\n",
    "        AutoCorrelationFunction(diff1,1)\n",
    "        #2nd diff\n",
    "        diff2=self.df[\"Close\"].diff().diff().dropna()\n",
    "        #print(\"Second Differencing\")\n",
    "        AutoCorrelationFunction(diff2,2)\n",
    "        #3rd diff\n",
    "        diff3=self.df[\"Close\"].diff().diff().diff().dropna()\n",
    "        #print(\"Third Differencing\")\n",
    "        AutoCorrelationFunction(diff3,3)\n",
    "        #we can also use ndifss from pmdarima library to get order of diffentiation\n",
    "        return ndiffs(self.df[\"Close\"],test=\"adf\")\n",
    "    \n",
    "    def AutoRegressive_p(self):\n",
    "        #p is the order of Auto Regressive term \n",
    "        #refers to number of lags to be used as predictors\n",
    "        #we can find out the required number of AR - p terms by inspecting Partial Autocorrelation plot\n",
    "        #PACF represents correlation between the series and its lags\n",
    "        def PartialAutoCorrelation(data,diff):\n",
    "            fig,(ax1,ax2)= plt.subplots(1,2,figsize=(16,5))\n",
    "            ax1.plot(data)\n",
    "            ax1.set_title(f\"Order of Differencing = {diff}\")\n",
    "            ax2.set_ylim(0,1)\n",
    "            plot_pacf(data,ax=ax2)\n",
    "        #print(\"Original Time Series Plot\")    \n",
    "        PartialAutoCorrelation(self.df[\"Close\"],0)\n",
    "        #since we chose diffferencing d= 1\n",
    "        diff1=self.df[\"Close\"].diff().dropna()\n",
    "        #print(\"First Differencing\")\n",
    "        PartialAutoCorrelation(diff1,1)\n",
    "        \n",
    "    def MovingAverage_q(self):\n",
    "        #q is the order of Moving Average term\n",
    "        #it refers to the number of lagged forexcast errors that should go to the Arima model\n",
    "        #we use the ACF plot for the number of MA terms\n",
    "        def AutoCorrelation(data,diff):\n",
    "            fig,(ax1,ax2)= plt.subplots(1,2,figsize=(16,5))\n",
    "            ax1.plot(data)\n",
    "            ax1.set_title(f\"Order of Differencing = {diff}\")\n",
    "            ax2.set_ylim(0,1)\n",
    "            plot_acf(data,ax=ax2)\n",
    "        #print(\"Original Time Series Plot\")    \n",
    "        AutoCorrelation(self.df[\"Close\"],0)\n",
    "        #since we chose diffferencing d= 1\n",
    "        diff1=self.df[\"Close\"].diff().dropna()\n",
    "        #print(\"First Differencing\")\n",
    "        AutoCorrelation(diff1,1)\n",
    "    \n",
    "    def BuildModel(self,p,q,d):\n",
    "        #well build an ARIMA model to forcast new datapoints\n",
    "        #split stock market data into training and testing set\n",
    "        #self.train, self.test = train_test_split(self.df[\"Close\"], train_size=100)\n",
    "        self.model=ARIMA(self.df[\"Close\"],order=(7,1,4))\n",
    "        self.result=self.model.fit()\n",
    "        print(self.result.summary())\n",
    "        #self.model.plot_diagnostics()\n",
    "        #plt.show()\n",
    "        \n",
    "    def ResidualErrors(self):\n",
    "        #The “residuals” in a time series model are what is left over after fitting a model.\n",
    "        #For many time series models, they are equal to the difference between the observations and the corresponding fitted values\n",
    "        #: error = yt − ˆyt\n",
    "        residuals=pd.DataFrame(self.result.resid)\n",
    "        display(residuals)\n",
    "        fig, (ax1,ax2)=plt.subplots(1,2,figsize=(16,5))\n",
    "        ax1.plot(residuals)\n",
    "        ax2.hist(residuals)"
   ]
  },
  {
   "cell_type": "code",
   "execution_count": null,
   "metadata": {},
   "outputs": [],
   "source": []
  },
  {
   "cell_type": "code",
   "execution_count": null,
   "metadata": {},
   "outputs": [],
   "source": []
  },
  {
   "cell_type": "code",
   "execution_count": null,
   "metadata": {},
   "outputs": [],
   "source": []
  },
  {
   "cell_type": "code",
   "execution_count": null,
   "metadata": {},
   "outputs": [],
   "source": []
  }
 ],
 "metadata": {
  "kernelspec": {
   "display_name": "Python 3",
   "language": "python",
   "name": "python3"
  },
  "language_info": {
   "codemirror_mode": {
    "name": "ipython",
    "version": 3
   },
   "file_extension": ".py",
   "mimetype": "text/x-python",
   "name": "python",
   "nbconvert_exporter": "python",
   "pygments_lexer": "ipython3",
   "version": "3.8.3"
  }
 },
 "nbformat": 4,
 "nbformat_minor": 4
}
