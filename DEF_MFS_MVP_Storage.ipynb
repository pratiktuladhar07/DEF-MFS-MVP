{
 "cells": [
  {
   "cell_type": "markdown",
   "metadata": {},
   "source": [
    "In this module we store our extracted stock market data into a cloud based persistent storage. For this we use mongoDb atlas where we configure an account, created a cluster, defined users and IP access, extracted credentials. We then create a database and number of collections where we stored our stock market data for Tesla and Ford."
   ]
  },
  {
   "cell_type": "markdown",
   "metadata": {},
   "source": [
    "### Libraries"
   ]
  },
  {
   "cell_type": "code",
   "execution_count": 1,
   "metadata": {},
   "outputs": [],
   "source": [
    "#!python -m pip install \"pymongo[srv]\"\n",
    "from pymongo import MongoClient\n",
    "import pandas as pd\n",
    "import json"
   ]
  },
  {
   "cell_type": "markdown",
   "metadata": {},
   "source": [
    "### MongoDb Class\n"
   ]
  },
  {
   "cell_type": "code",
   "execution_count": 2,
   "metadata": {},
   "outputs": [],
   "source": [
    "#we define a class to connect our python script to MongoDb Database deployed on cloud,\n",
    "#the we load data to the database and retrive data from database\n",
    "class  MongoDbAtlas:\n",
    "    \n",
    "    #this instance method will be used to fetch credentials from a Json file to autnenticate and connect to the database\\\n",
    "    def fetch_creds(self,Json):\n",
    "        #loadinhg contents from JSON\n",
    "        with open(Json, \"r\") as handler:\n",
    "            contents = json.load(handler)\n",
    "        return contents[\"Username\"],contents[\"Password\"],contents[\"host_address\"]\n",
    "    \n",
    "    \n",
    "    #we create a instance class for create MongoDB client to connect with the database\n",
    "    def connect_database(self,username,password,host_address):\n",
    "        url=f\"mongodb+srv://{username}:{password}@{host_address}\"\n",
    "        self.client = MongoClient(url)\n",
    "     \n",
    "    #this instance method will create a database if it doesnt exists or access the database if it exist.\n",
    "    #then we will create a collection \n",
    "    def create_database(self,database_name,collection_name):\n",
    "        #database: multiple ollection stored in database\n",
    "        db=self.client[database_name]\n",
    "        #collection: multiple documents makes up a collection\n",
    "        colc=db[collection_name]\n",
    "        return colc\n",
    "    \n",
    "    \n",
    "    #def print_abc(self):\n",
    "        #print(\"abc\")\n",
    "        \n",
    "    #we define a method to store the stok market data (which is in a dataframe structure) into the mongodb's database's collection\n",
    "    def store_stockdata(self,stock_df,colc):\n",
    "        #mongodb store records in BSON which is s a binary-encoded serialization of JSON documents\n",
    "        #JSON-javascript oject notation-dictionary\n",
    "        #so we convert the datafrae into a dictionary so that it can be stored into MongoDb database as documents\n",
    "        stock_dict=stock_df.to_dict(\"records\")\n",
    "        #display(stock_df)\n",
    "        #display(stock_dict)\n",
    "        #we use mongodb's nosqlinsert_many function to insert the dictionary into the mongodb database\n",
    "        colc.insert_many(stock_dict)\n",
    "        \n",
    "    def fetch_dbdata(self,colc):\n",
    "        #this method is used to extract the documents of the collection stored in the database\n",
    "        #we use the find() function to find all possible documents in the database\n",
    "        dict_fromdb=colc.find()\n",
    "        dict_list=[]\n",
    "        #all the individual documents will be appended in a list so that we have a list of individual documents\n",
    "        for x in dict_fromdb:\n",
    "            dict_list.append(x)\n",
    "        #display(dict_list)\n",
    "        df_fromdb=pd.DataFrame.from_dict(dict_list)\n",
    "        #display(df_fromdb)\n",
    "        return dict_list,df_fromdb\n",
    "    \n",
    "    \n",
    "        "
   ]
  },
  {
   "cell_type": "code",
   "execution_count": 3,
   "metadata": {},
   "outputs": [],
   "source": [
    "#mongodb=MongoDbAtlas()"
   ]
  },
  {
   "cell_type": "code",
   "execution_count": 4,
   "metadata": {},
   "outputs": [],
   "source": [
    "#define class object\n",
    "#mongodb=MongoDbAtlas()\n",
    "#retrive username, password and host_address from JSON\n",
    "#username,password,host_address=mongodb.fetch_creds(\"DEF-MFS-MVP-Configuration.JSON\")\n",
    "#use the retrived credentials to connect to mongoDB database\n",
    "#mongodb.connect_database(username,password,host_address)\n"
   ]
  },
  {
   "cell_type": "code",
   "execution_count": 1,
   "metadata": {},
   "outputs": [],
   "source": [
    "#create database and collection\n",
    "#Tesla_collection=mongodb.create_database(\"DEF-MFS-MVP-Stocks\",\"DEF-MFS-MVP-Tesla\")"
   ]
  },
  {
   "cell_type": "code",
   "execution_count": 2,
   "metadata": {},
   "outputs": [],
   "source": [
    "#mongodb.store_stockdata(Tesla,Tesla_collection)"
   ]
  },
  {
   "cell_type": "code",
   "execution_count": 3,
   "metadata": {},
   "outputs": [],
   "source": [
    "#dic_from_db,df_from_db=mongodb.fetch_dbdata(Tesla_collection)"
   ]
  },
  {
   "cell_type": "code",
   "execution_count": 4,
   "metadata": {},
   "outputs": [],
   "source": [
    "3#dic_from_db"
   ]
  },
  {
   "cell_type": "code",
   "execution_count": 5,
   "metadata": {},
   "outputs": [],
   "source": [
    "#df_from_db"
   ]
  },
  {
   "cell_type": "code",
   "execution_count": null,
   "metadata": {},
   "outputs": [],
   "source": []
  },
  {
   "cell_type": "code",
   "execution_count": null,
   "metadata": {},
   "outputs": [],
   "source": []
  },
  {
   "cell_type": "code",
   "execution_count": null,
   "metadata": {},
   "outputs": [],
   "source": []
  },
  {
   "cell_type": "code",
   "execution_count": null,
   "metadata": {},
   "outputs": [],
   "source": []
  },
  {
   "cell_type": "code",
   "execution_count": 65,
   "metadata": {},
   "outputs": [],
   "source": []
  },
  {
   "cell_type": "code",
   "execution_count": 18,
   "metadata": {},
   "outputs": [],
   "source": []
  },
  {
   "cell_type": "code",
   "execution_count": 25,
   "metadata": {},
   "outputs": [],
   "source": []
  },
  {
   "cell_type": "code",
   "execution_count": 17,
   "metadata": {},
   "outputs": [],
   "source": []
  },
  {
   "cell_type": "code",
   "execution_count": null,
   "metadata": {},
   "outputs": [],
   "source": []
  }
 ],
 "metadata": {
  "kernelspec": {
   "display_name": "Python 3",
   "language": "python",
   "name": "python3"
  },
  "language_info": {
   "codemirror_mode": {
    "name": "ipython",
    "version": 3
   },
   "file_extension": ".py",
   "mimetype": "text/x-python",
   "name": "python",
   "nbconvert_exporter": "python",
   "pygments_lexer": "ipython3",
   "version": "3.8.3"
  }
 },
 "nbformat": 4,
 "nbformat_minor": 4
}
