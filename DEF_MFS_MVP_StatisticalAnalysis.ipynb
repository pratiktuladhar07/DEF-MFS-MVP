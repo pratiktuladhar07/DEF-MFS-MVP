{
 "cells": [
  {
   "cell_type": "markdown",
   "metadata": {},
   "source": [
    "#### This module takes data and calculates its statistical characteristics and returns them. Also, it looks for any missing values, outliers and errors in the data.\n"
   ]
  },
  {
   "cell_type": "markdown",
   "metadata": {},
   "source": [
    "## Libraries"
   ]
  },
  {
   "cell_type": "code",
   "execution_count": 1,
   "metadata": {},
   "outputs": [],
   "source": [
    "#to work with dataframe\n",
    "import pandas as pd\n",
    "#to perform mathematical and statistical calculations\n",
    "import numpy as np\n",
    "#for visualization to create plots and graphs\n"
   ]
  },
  {
   "cell_type": "markdown",
   "metadata": {},
   "source": [
    "## Define class to compute missing values, outliers and any errors"
   ]
  },
  {
   "cell_type": "code",
   "execution_count": 6,
   "metadata": {},
   "outputs": [],
   "source": [
    "class Find_Anomolies:\n",
    "    #class constructor\n",
    "    def __init__(self,dataframe):\n",
    "        self.df=dataframe\n",
    "        \n",
    "    #we define a class called check_null to find any missing values in ourr stock market dataframe\n",
    "    #we use isnull()that returns true or false values if there is Nan in the table\n",
    "    def check_null(self):\n",
    "        is_null=self.df.isnull().sum()\n",
    "        display(is_null)\n",
    "        is_null_dict=is_null.to_dict()\n",
    "        for i in is_null_dict:\n",
    "            if is_null_dict[i]==0:\n",
    "                print(f\"There are no missing values in {i} column \\n\")\n",
    "    \n",
    "    def check_outliers(self,column_name):\n",
    "        #we define a class instance method to detect any outliers in our stock market data\n",
    "        #well find 1st and 3rd quantile, calculate IQR and find upper and lower whisker\n",
    "        #any datapoint greater than upper whisker and any data lesser than the lower quantile will be our outlier\n",
    "        #print(type(self.df[column_name]))\n",
    "        #calculate Q1\n",
    "        Q1 = np.percentile(self.df[column_name], 25,method = 'midpoint')\n",
    "        #calculate Q3\n",
    "        Q3=np.percentile(df_from_db_tesla[\"Open\"], 75,method = 'midpoint')\n",
    "        #calculate interquartile range\n",
    "        IQR=Q3-Q1\n",
    "        #calculate upper  whisker\n",
    "        upper=(Q3+1.5*IQR)\n",
    "        #calculate lower whisker\n",
    "        lower=(Q1-1.5*IQR)\n",
    "        #any data points above and lower the upper and lower whickers respectively are considered outliers\n",
    "        #upper datapoints and lower datapoints\n",
    "        upper_data = self.df[column_name] >= upper\n",
    "        lower_data = self.df[column_name] <= lower\n",
    "        outlier_data=pd.concat([self.df[upper_data],self.df[lower_data]],axis=0)\n",
    "        #outliers are\n",
    "        print(f\"Upper Limit : {upper} /n Lower Limit : {lower})\n",
    "        display(outlier_data[[\"Date\",column_name]])\n",
    "        print(f\"There are {shape.outlier_data[0]} outliers for {column_name} target feature\")\n",
    "    "
   ]
  },
  {
   "cell_type": "markdown",
   "metadata": {},
   "source": [
    "## Define class to compute statistical characteristics of our data"
   ]
  },
  {
   "cell_type": "code",
   "execution_count": 8,
   "metadata": {},
   "outputs": [],
   "source": [
    "#this class will calculate all the statistical characteristic of our stock market price data\n",
    "class Statistical_character:\n",
    "    #class constructor\n",
    "    def __init__(self,dataframe,column_name):\n",
    "        self.df=dataframe\n",
    "        self.col=column_name\n",
    "        self.stats=[]\n",
    "        \n",
    "    #method to show all the descriptive statistic characters of our stock market data\n",
    "    def calculate_statistic(self):\n",
    "        #print(type(self.col))\n",
    "        \n",
    "        print(self.col)\n",
    "        #print(type(self.df[self.col]))\n",
    "        print(\"Descriptive Statistics \\n\")\n",
    "        display(self.df[self.col].describe())\n",
    "    \n",
    "    #method to calculate minimum values from our data\n",
    "    def calculate_min(self):\n",
    "        #print(self.df[self.col])\n",
    "        min_value=self.df[self.col].min()\n",
    "        #print(min_value)\n",
    "        print(f\"Minimum of {self.col} stock price is : {min_value}\")\n",
    "        self.stats.append((\"min\",min_value))\n",
    "        \n",
    "        \n",
    "    #method to calculate maximum values from our data\n",
    "    def calculate_max(self):\n",
    "        max_value=self.df[self.col].max()\n",
    "        print(f\"Maximum of {self.col} stock price is : {max_value}\")\n",
    "        self.stats.append((\"max\",max_value))\n",
    "    \n",
    "    #method to calculate range values from our data\n",
    "    def calculate_range(self):\n",
    "        range_val=self.df[self.col].max()-self.df[self.col].min()\n",
    "        print(f\"Range of {self.col} stock price is : {range_val}\")\n",
    "        self.stats.append((\"range\",range_val))\n",
    "    \n",
    "    #method to calculate median from our data(middle value)\n",
    "    def calculate_median(self):\n",
    "        median_val=self.df[self.col].median()\n",
    "        print(f\"Median of {self.col} stock price is : {median_val}\")\n",
    "        self.stats.append((\"median\",median_val))\n",
    "    \n",
    "    #method to calculate mean/average from our data\n",
    "    def calculate_mean(self):\n",
    "        mean_val=self.df[self.col].mean()\n",
    "        print(f\"Mean of {self.col} stock price is : {mean_val}\")\n",
    "        self.stats.append((\"mean\",mean_val))\n",
    "    \n",
    "    #method to calculate variance from our data\n",
    "    def calculate_variance(self):\n",
    "        var_val=self.df[self.col].var()\n",
    "        print(f\"Variance of {self.col} stock price is : {var_val}\")\n",
    "        self.stats.append((\"variance\",var_val))\n",
    "        \n",
    "    #method to calculate standard deviation from our data    \n",
    "    def calculate_stddev(self):\n",
    "        std_val=self.df[self.col].std()\n",
    "        print(f\"Standard Deviation of {self.col} stock price is : {std_val} \\n\")\n",
    "        self.stats.append((\"standard_deviation\",std_val))\n",
    "    \n",
    "    #method to display all the statistical characters in tabular format\n",
    "    def stats_table(self):\n",
    "        print(\"Statistical Characteristic in tabular form: \\n\")\n",
    "        stats_intable=pd.DataFrame(self.stats,columns=[\"Statistical_Charecteristic\",\"Values\"])\n",
    "        display(stats_intable)"
   ]
  },
  {
   "cell_type": "code",
   "execution_count": null,
   "metadata": {},
   "outputs": [],
   "source": []
  }
 ],
 "metadata": {
  "kernelspec": {
   "display_name": "Python 3",
   "language": "python",
   "name": "python3"
  },
  "language_info": {
   "codemirror_mode": {
    "name": "ipython",
    "version": 3
   },
   "file_extension": ".py",
   "mimetype": "text/x-python",
   "name": "python",
   "nbconvert_exporter": "python",
   "pygments_lexer": "ipython3",
   "version": "3.8.3"
  }
 },
 "nbformat": 4,
 "nbformat_minor": 4
}
